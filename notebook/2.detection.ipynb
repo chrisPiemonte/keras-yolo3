{
 "cells": [
  {
   "cell_type": "code",
   "execution_count": 5,
   "metadata": {},
   "outputs": [],
   "source": [
    "import sys, os\n",
    "from pathlib import Path\n",
    "from PIL import Image, ImageDraw\n",
    "\n",
    "sys.path.append(os.path.abspath(\"../\"))\n",
    "sys.path.append(os.path.abspath(\"./\"))\n",
    "from yolo import YOLO\n",
    "from utils import *"
   ]
  },
  {
   "cell_type": "code",
   "execution_count": 2,
   "metadata": {},
   "outputs": [
    {
     "name": "stdout",
     "output_type": "stream",
     "text": [
      "../model_data/yolo.h5 model, anchors, and classes loaded.\n"
     ]
    }
   ],
   "source": [
    "path_input_dir        = Path('../data/input/')\n",
    "path_output_dir       = Path('../data/output/mhca/')\n",
    "path_detection_output = Path(path_output_dir, 'detection_output.txt')\n",
    "path_output_dir.mkdir(parents=True, exist_ok=True)\n",
    "\n",
    "# input_images = path_input_dir.glob('*')\n",
    "input_images = path_input_dir.glob('mhca-cropped/*/*.jpg')\n",
    "\n",
    "# relevant_classes = {'car', 'truck'}\n",
    "\n",
    "params = {\n",
    "    'model_path':   f'../{YOLO.get_defaults(\"model_path\")}',\n",
    "    'anchors_path': f'../{YOLO.get_defaults(\"anchors_path\")}',\n",
    "    'classes_path': f'../{YOLO.get_defaults(\"classes_path\")}',\n",
    "    'font': '../font/FiraMono-Medium.otf',\n",
    "    'image':  True,\n",
    "}\n",
    "model = YOLO(**params)"
   ]
  },
  {
   "cell_type": "markdown",
   "metadata": {},
   "source": [
    "## Run detection on images"
   ]
  },
  {
   "cell_type": "code",
   "execution_count": null,
   "metadata": {},
   "outputs": [],
   "source": [
    "%%time\n",
    "\n",
    "output_rows = []\n",
    "\n",
    "for img_path in input_images:\n",
    "    print(img_path)\n",
    "    if 'DS_Store' not in str(img_path):\n",
    "        img = Image.open(img_path)\n",
    "        output_path = Path(path_output_dir, img_path.name)\n",
    "        out_img, _, _, classes, coords, _ = model.detect_image(img.copy())\n",
    "\n",
    "        output_rows += [get_row(img_path, coords, classes)]\n",
    "        out_img.save(str(output_path))\n",
    "        print('')\n",
    "\n",
    "with open(path_detection_output, 'w+') as output_file:\n",
    "    for row in output_rows:\n",
    "        output_file.write(row + '\\n')"
   ]
  }
 ],
 "metadata": {
  "kernelspec": {
   "display_name": "Python 3",
   "language": "python",
   "name": "python3"
  },
  "language_info": {
   "codemirror_mode": {
    "name": "ipython",
    "version": 3
   },
   "file_extension": ".py",
   "mimetype": "text/x-python",
   "name": "python",
   "nbconvert_exporter": "python",
   "pygments_lexer": "ipython3",
   "version": "3.6.8"
  }
 },
 "nbformat": 4,
 "nbformat_minor": 2
}
