{
 "cells": [
  {
   "cell_type": "code",
   "execution_count": 1,
   "metadata": {},
   "outputs": [
    {
     "name": "stderr",
     "output_type": "stream",
     "text": [
      "Using TensorFlow backend.\n"
     ]
    }
   ],
   "source": [
    "import sys, os\n",
    "from pathlib import Path\n",
    "from PIL import Image, ImageDraw\n",
    "\n",
    "sys.path.append(os.path.abspath(\"../\"))\n",
    "from yolo import YOLO"
   ]
  },
  {
   "cell_type": "code",
   "execution_count": 2,
   "metadata": {},
   "outputs": [
    {
     "name": "stdout",
     "output_type": "stream",
     "text": [
      "../model_data/yolo.h5 model, anchors, and classes loaded.\n"
     ]
    }
   ],
   "source": [
    "path_input_dir        = Path('../data/input/')\n",
    "path_output_dir       = Path('../data/output/')\n",
    "path_detection_output = Path(path_output_dir, 'detection_output.txt')\n",
    "path_output_dir.mkdir(parents=True, exist_ok=True)\n",
    "\n",
    "input_images = path_input_dir.glob('*')\n",
    "# relevant_classes = {'car', 'truck'}\n",
    "\n",
    "params = {\n",
    "    'model_path':   f'../{YOLO.get_defaults(\"model_path\")}',\n",
    "    'anchors_path': f'../{YOLO.get_defaults(\"anchors_path\")}',\n",
    "    'classes_path': f'../{YOLO.get_defaults(\"classes_path\")}',\n",
    "    'font': '../font/FiraMono-Medium.otf',\n",
    "    'image':  True,\n",
    "}\n",
    "model = YOLO(**params)"
   ]
  },
  {
   "cell_type": "markdown",
   "metadata": {},
   "source": [
    "## TODO: one image per bounding box"
   ]
  },
  {
   "cell_type": "code",
   "execution_count": 3,
   "metadata": {},
   "outputs": [],
   "source": [
    "def __get_row_format_string(img_path, *boxes):\n",
    "    return f'{img_path} {\" \".join(boxes)}'\n",
    "\n",
    "# left, top, right, bottom, class_id  \n",
    "def __get_box_format_string(x_min, y_min, x_max, y_max, class_id):\n",
    "    return f'{x_min},{y_min},{x_max},{y_max},{class_id}'\n",
    "\n",
    "def get_row(img_path, coords, classes):\n",
    "    boxes_string = [\n",
    "        __get_box_format_string(\n",
    "            coords[i][0], \n",
    "            coords[i][1], \n",
    "            coords[i][2], \n",
    "            coords[i][3], \n",
    "            classes[i]) \n",
    "        for i in range(len(coords))]\n",
    "    return __get_row_format_string(img_path, *boxes_string)"
   ]
  },
  {
   "cell_type": "code",
   "execution_count": 4,
   "metadata": {},
   "outputs": [
    {
     "name": "stdout",
     "output_type": "stream",
     "text": [
      "(416, 416, 3)\n",
      "Found 1 boxes for img\n",
      "car 1.00 (0, 82) (3976, 2086)\n",
      "3.0865582459955476\n",
      "\n",
      "(416, 416, 3)\n",
      "Found 2 boxes for img\n",
      "person 1.00 (469, 27) (1021, 570)\n",
      "person 1.00 (0, 92) (465, 576)\n",
      "1.0754819050052902\n",
      "\n"
     ]
    }
   ],
   "source": [
    "# Row format: image_file_path box1 box2 ... boxN;\n",
    "# Box format: x_min,y_min,x_max,y_max,class_id (no space).\n",
    "# out_img, _boxes, _scores, classes, coords, _labels = model.detect_image\n",
    "# print(img_path.absolute())\n",
    "\n",
    "output_rows = []\n",
    "\n",
    "for img_path in input_images:\n",
    "    img = Image.open(img_path)\n",
    "    output_path = Path(path_output_dir, img_path.name)\n",
    "    out_img, _, _, classes, coords, _ = model.detect_image(img.copy())\n",
    "    \n",
    "    output_rows += [get_row(img_path, coords, classes)]\n",
    "    out_img.save(str(output_path))\n",
    "    print('')\n",
    "\n",
    "with open(path_detection_output, 'w+') as output_file:\n",
    "    for row in output_rows:\n",
    "        output_file.write(row + '\\n')"
   ]
  }
 ],
 "metadata": {
  "kernelspec": {
   "display_name": "Python 3",
   "language": "python",
   "name": "python3"
  },
  "language_info": {
   "codemirror_mode": {
    "name": "ipython",
    "version": 3
   },
   "file_extension": ".py",
   "mimetype": "text/x-python",
   "name": "python",
   "nbconvert_exporter": "python",
   "pygments_lexer": "ipython3",
   "version": "3.6.6"
  }
 },
 "nbformat": 4,
 "nbformat_minor": 2
}
