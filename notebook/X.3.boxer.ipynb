{
 "cells": [
  {
   "cell_type": "code",
   "execution_count": 1,
   "metadata": {},
   "outputs": [],
   "source": [
    "import random\n",
    "import sys, os\n",
    "import pandas as pd\n",
    "from pathlib import Path\n",
    "import matplotlib.pyplot as plt\n",
    "from PIL import Image, ImageDraw\n",
    "\n",
    "sys.path.append(os.path.abspath(\"./\"))\n",
    "from utils import *\n",
    "\n",
    "import ipywidgets as widgets\n",
    "from IPython.display import display as disp\n",
    "from ipywidgets import interact, interactive, SelectionRangeSlider"
   ]
  },
  {
   "cell_type": "code",
   "execution_count": 2,
   "metadata": {},
   "outputs": [],
   "source": [
    "classes_path  = '../model_data/coco_classes.txt'\n",
    "detection_file_path = '../data/output/mhca/detection_output.txt'\n",
    "classes  = get_classes(classes_path)\n",
    "id2class = {str(i): classes[i] for i in range(len(classes))}\n",
    "img2bbs = get_predictions(detection_file_path)\n",
    "img2bb  = explode_dict(img2bbs)\n",
    "\n",
    "non_classified_image_paths = [path for path, bbs in img2bbs.items() if len(bbs) == 0]"
   ]
  },
  {
   "cell_type": "markdown",
   "metadata": {},
   "source": [
    "## Boxer"
   ]
  },
  {
   "cell_type": "code",
   "execution_count": 3,
   "metadata": {},
   "outputs": [
    {
     "name": "stdout",
     "output_type": "stream",
     "text": [
      "['../data/input/mhca-cropped/Y707AKL/Y707AKL_1.jpg']\n"
     ]
    },
    {
     "data": {
      "application/vnd.jupyter.widget-view+json": {
       "model_id": "518e2f0c98eb48dfadfe2a1407374170",
       "version_major": 2,
       "version_minor": 0
      },
      "text/plain": [
       "HBox(children=(SelectionRangeSlider(description='Left - Right', index=(0, 249), options=(0, 1, 2, 3, 4, 5, 6, …"
      ]
     },
     "metadata": {},
     "output_type": "display_data"
    },
    {
     "data": {
      "application/vnd.jupyter.widget-view+json": {
       "model_id": "2f1436efac034e0fbec2c5c70f207ef3",
       "version_major": 2,
       "version_minor": 0
      },
      "text/plain": [
       "HBox(children=(SelectionRangeSlider(description='Top - Down', index=(0, 314), options=(315, 314, 313, 312, 311…"
      ]
     },
     "metadata": {},
     "output_type": "display_data"
    }
   ],
   "source": [
    "img  = get_sample_from_list(non_classified_image_paths)[0]\n",
    "def print_box2(vertical, horizontal):\n",
    "    bottom, top = vertical\n",
    "    left, right = horizontal\n",
    "    bb = BoundingBox(f'{top},{left},{right},{bottom},{0}')\n",
    "    disp(print_coords(img, bb))\n",
    "    print(f'{bb.top}, {bb.left}, {bb.right}, {bb.bottom}')\n",
    "    return (top, left, right, bottom)\n",
    "\n",
    "v_slider = widgets.SelectionRangeSlider(\n",
    "    orientation='vertical',\n",
    "    options=[i for i in range(img.size[1], -1, -1)],\n",
    "    index=(0, img.size[1]-1),\n",
    "    description='Top - Down',\n",
    "    disabled=False\n",
    ")\n",
    "\n",
    "h_slider = widgets.SelectionRangeSlider(\n",
    "    orientation='horizontal',\n",
    "    options=[i for i in range(0, img.size[0])],\n",
    "    index=(0, img.size[0]-1),\n",
    "    description='Left - Right',\n",
    "    disabled=False\n",
    ")\n",
    "\n",
    "out = widgets.interactive_output(\n",
    "    print_box2, \n",
    "    {'vertical': v_slider, 'horizontal':h_slider})\n",
    "\n",
    "ui_top    = widgets.HBox([h_slider])\n",
    "ui_bottom = widgets.HBox([v_slider, out])\n",
    "display(ui_top, ui_bottom)"
   ]
  },
  {
   "cell_type": "code",
   "execution_count": 4,
   "metadata": {},
   "outputs": [
    {
     "data": {
      "text/plain": [
       "'/path/to/image/ 1,0,249,315,label'"
      ]
     },
     "execution_count": 4,
     "metadata": {},
     "output_type": "execute_result"
    }
   ],
   "source": [
    "def get_coord(v_slider, h_slider, path='/path/to/image/', label='label'):\n",
    "    return f'{path} {v_slider.value[1]},{h_slider.value[0]},{h_slider.value[1]},{v_slider.value[0]},{label}'\n",
    "    \n",
    "get_coord(v_slider, h_slider)"
   ]
  }
 ],
 "metadata": {
  "kernelspec": {
   "display_name": "Python 3",
   "language": "python",
   "name": "python3"
  },
  "language_info": {
   "codemirror_mode": {
    "name": "ipython",
    "version": 3
   },
   "file_extension": ".py",
   "mimetype": "text/x-python",
   "name": "python",
   "nbconvert_exporter": "python",
   "pygments_lexer": "ipython3",
   "version": "3.6.8"
  }
 },
 "nbformat": 4,
 "nbformat_minor": 2
}
