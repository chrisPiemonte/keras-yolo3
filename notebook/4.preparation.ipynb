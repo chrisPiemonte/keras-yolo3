{
 "cells": [
  {
   "cell_type": "code",
   "execution_count": 1,
   "metadata": {},
   "outputs": [],
   "source": [
    "import re\n",
    "import random\n",
    "import sys, os\n",
    "sys.path.append(os.path.abspath(\"./\"))\n",
    "from utils import *\n",
    "\n",
    "sys.path.append(os.path.abspath(\"../\"))\n",
    "import voc_annotation"
   ]
  },
  {
   "cell_type": "markdown",
   "metadata": {},
   "source": [
    "## Strategy\n",
    "1. Keep every classified car as is\n",
    "2. Convert *bus*, *aeroplane*, *motorbike*, *train*, *refrigerator*, *boat*, *toilet*, *truck*, *parkingmeter*, *suitcase* to **car**\n",
    "3. Remove non-classified images (aka images with no bounding boxes)"
   ]
  },
  {
   "cell_type": "code",
   "execution_count": 2,
   "metadata": {},
   "outputs": [],
   "source": [
    "output_folder        = '../data/output/mhca/'\n",
    "classes_path   = '../model_data/coco_classes.txt'\n",
    "detection_file_path = output_folder + 'detection_output.txt'\n",
    "\n",
    "trainval_output_file = output_folder + 'trainval_annotations.txt'\n",
    "test_output_file     = output_folder + 'test_annotations.txt'\n",
    "output_file          = output_folder + 'prepped_detection_output.txt'\n",
    "non_class_file       = output_folder + 'non_classified.txt'\n",
    "\n",
    "classes  = get_classes(classes_path)\n",
    "id2class = {str(i): classes[i] for i in range(len(classes))}\n",
    "\n",
    "img2bbs  = get_predictions(detection_file_path)\n",
    "img2bb   = explode_dict(img2bbs)\n",
    "\n",
    "original_img2bbs = img2bbs.copy()\n",
    "original_img2bb  = img2bb.copy()\n",
    "\n",
    "non_classified_image_paths = [path for path, bbs in img2bbs.items() if len(bbs) == 0]"
   ]
  },
  {
   "cell_type": "markdown",
   "metadata": {},
   "source": [
    "- leave 30% for test\n",
    "- take other classes"
   ]
  },
  {
   "cell_type": "markdown",
   "metadata": {},
   "source": [
    "# MHCA"
   ]
  },
  {
   "cell_type": "markdown",
   "metadata": {},
   "source": [
    "## Filter Bounding Boxes"
   ]
  },
  {
   "cell_type": "markdown",
   "metadata": {},
   "source": [
    "### Change labels to car\n",
    "- **input**:\n",
    "- **output**:"
   ]
  },
  {
   "cell_type": "code",
   "execution_count": 3,
   "metadata": {},
   "outputs": [],
   "source": [
    "labels_gonna_be_car = set(['7', '5', '12', '3', '28', '6', '72', '4', '61', '8'])\n",
    "for i in range(0, len(img2bb)):\n",
    "    label = img2bb[i][1].prediction\n",
    "    if label in labels_gonna_be_car:\n",
    "        img2bb[i][1].prediction = '2'"
   ]
  },
  {
   "cell_type": "markdown",
   "metadata": {},
   "source": [
    "### Filter non car Boounding Boxes\n",
    "- **input**:\n",
    "- **output**:"
   ]
  },
  {
   "cell_type": "code",
   "execution_count": 4,
   "metadata": {},
   "outputs": [],
   "source": [
    "img2bb = [elem for elem in img2bb if elem[1].prediction == '2']"
   ]
  },
  {
   "cell_type": "markdown",
   "metadata": {},
   "source": [
    "## Results"
   ]
  },
  {
   "cell_type": "code",
   "execution_count": 5,
   "metadata": {},
   "outputs": [
    {
     "name": "stdout",
     "output_type": "stream",
     "text": [
      "NUMBER OF BOXES BEFORE:   20203\n",
      "NUMBER OF BOXES AFTER:    19512\n",
      "\n",
      "NUMBER OF IMAGES BEFORE:  16481\n",
      "NUMBER OF IMAGES AFTER:   14378\n"
     ]
    }
   ],
   "source": [
    "img2bbs = back_to_dict(img2bb)\n",
    "print(f'NUMBER OF BOXES BEFORE:   {len(original_img2bb)}')\n",
    "print(f'NUMBER OF BOXES AFTER:    {len(img2bb)}\\n')\n",
    "\n",
    "print(f'NUMBER OF IMAGES BEFORE:  {len(original_img2bbs)}')\n",
    "print(f'NUMBER OF IMAGES AFTER:   {len(img2bbs)}')"
   ]
  },
  {
   "cell_type": "markdown",
   "metadata": {},
   "source": [
    "## Split Train and Test for MHCA\n",
    "- **input**:\n",
    "- **output**:"
   ]
  },
  {
   "cell_type": "code",
   "execution_count": 6,
   "metadata": {},
   "outputs": [
    {
     "name": "stdout",
     "output_type": "stream",
     "text": [
      "NUMBER OF TRAIN INSTANCES FOR MHCA: 11502\n",
      "NUMBER OF TEST  INSTANCES FOR MHCA: 2876\n"
     ]
    }
   ],
   "source": [
    "random.seed(42)\n",
    "paths = list(img2bbs.keys())\n",
    "random.shuffle(paths)\n",
    "\n",
    "train_percentage = 0.8\n",
    "test_percentage  = 1 - train_percentage\n",
    "\n",
    "train_paths = random.sample(paths, int(len(paths) * train_percentage))\n",
    "test_paths  = list(set(paths) - set(train_paths))\n",
    "\n",
    "train_mhca_img2bbs = {path: img2bbs[path] for path in train_paths}\n",
    "test_mhca_img2bbs  = {path: img2bbs[path] for path in test_paths}\n",
    "\n",
    "print(f'NUMBER OF TRAIN INSTANCES FOR MHCA: {len(train_mhca_img2bbs)}')\n",
    "print(f'NUMBER OF TEST  INSTANCES FOR MHCA: {len(test_mhca_img2bbs)}')"
   ]
  },
  {
   "cell_type": "markdown",
   "metadata": {},
   "source": [
    "# VOC"
   ]
  },
  {
   "cell_type": "markdown",
   "metadata": {},
   "source": [
    "## Convert VOC format to YOLO format\n",
    "- **input**: VOC annotation file\n",
    "- **output**: converted file with YOLO style annotations"
   ]
  },
  {
   "cell_type": "code",
   "execution_count": 7,
   "metadata": {},
   "outputs": [
    {
     "name": "stdout",
     "output_type": "stream",
     "text": [
      "File Not Found for test: No such file or directory\n",
      "All good\n"
     ]
    }
   ],
   "source": [
    "voc_path    = Path('../data/input/voc/voc2012/VOCdevkit-trainval/')\n",
    "output_path = Path('../data/output/voc/voc2012/')\n",
    "output_path.mkdir(parents=True, exist_ok=True)\n",
    "\n",
    "voc_annotation.convert(voc_folder=str(voc_path), output_path=str(output_path))"
   ]
  },
  {
   "cell_type": "markdown",
   "metadata": {},
   "source": [
    "## Change VOC labels to COCO labels\n",
    "- **input**: file with YOLO style annotations\n",
    "- **output**: same file but with COCO classes"
   ]
  },
  {
   "cell_type": "code",
   "execution_count": 8,
   "metadata": {},
   "outputs": [],
   "source": [
    "converted_voc_train_annotations_path = Path(output_path, 'converted_2012_train.txt')\n",
    "converted_voc_val_annotations_path   = Path(output_path, 'converted_2012_val.txt')\n",
    "regex = r'\\b(\\w+)$' # regex to find last word\n",
    "\n",
    "# class mappings\n",
    "voc2coco = {\n",
    "    '0': '5',\n",
    "    '1': '1',\n",
    "    '2': '14',\n",
    "    '3': '8',\n",
    "    '4': '39',\n",
    "    '5': '5',\n",
    "    '6': '2',\n",
    "    '7': '15',\n",
    "    '8': '56',\n",
    "    '9': '19',\n",
    "    '10': '60',\n",
    "    '11': '16',\n",
    "    '12': '17',\n",
    "    '13': '3',\n",
    "    '14': '0',\n",
    "    '15': '58',\n",
    "    '16': '19',\n",
    "    '17': '57',\n",
    "    '18': '6',\n",
    "    '19': '62'\n",
    "}"
   ]
  },
  {
   "cell_type": "markdown",
   "metadata": {},
   "source": [
    "##### Run this only ONE time **for pizza sake** !"
   ]
  },
  {
   "cell_type": "code",
   "execution_count": 9,
   "metadata": {},
   "outputs": [
    {
     "name": "stdout",
     "output_type": "stream",
     "text": [
      "All good\n",
      "All good\n"
     ]
    }
   ],
   "source": [
    "replace_in_file(str(converted_voc_train_annotations_path), regex, voc2coco)\n",
    "replace_in_file(str(converted_voc_val_annotations_path), regex, voc2coco)"
   ]
  },
  {
   "cell_type": "markdown",
   "metadata": {},
   "source": [
    "# Combine MHCA with VOC\n",
    "- **input**:\n",
    "- **output**:"
   ]
  },
  {
   "cell_type": "markdown",
   "metadata": {},
   "source": [
    "## Get VOC sets"
   ]
  },
  {
   "cell_type": "code",
   "execution_count": 10,
   "metadata": {},
   "outputs": [
    {
     "name": "stdout",
     "output_type": "stream",
     "text": [
      "NUMBER OF TRAIN INSTANCES FOR VOC: 5717\n",
      "NUMBER OF TEST  INSTANCES FOR VOC: 5823\n",
      "\n",
      "NUMBER OF TOTAL INSTANCES FOR VOC: 11540\n"
     ]
    }
   ],
   "source": [
    "img2bbs_train = get_predictions(converted_voc_train_annotations_path)\n",
    "img2bb_train  = explode_dict(img2bbs_train)\n",
    "img2bbs_val   = get_predictions(converted_voc_val_annotations_path)\n",
    "img2bb_val    = explode_dict(img2bbs_val)\n",
    "\n",
    "voc_img2bbs = {**img2bbs_train, **img2bbs_val}\n",
    "voc_img2bb  = img2bb_val + img2bb_train\n",
    "\n",
    "print(f'NUMBER OF TRAIN INSTANCES FOR VOC: {len(img2bbs_train)}')\n",
    "print(f'NUMBER OF TEST  INSTANCES FOR VOC: {len(img2bbs_val)}\\n')\n",
    "print(f'NUMBER OF TOTAL INSTANCES FOR VOC: {len(voc_img2bbs)}')"
   ]
  },
  {
   "cell_type": "markdown",
   "metadata": {},
   "source": [
    "## Merge VOC and MHCA"
   ]
  },
  {
   "cell_type": "code",
   "execution_count": 12,
   "metadata": {},
   "outputs": [
    {
     "name": "stdout",
     "output_type": "stream",
     "text": [
      "NUMBER OF TRAIN TOTAL INSTANCES: 11502\n",
      "NUMBER OF TEST  TOTAL INSTANCES: 14416\n"
     ]
    }
   ],
   "source": [
    "total_img2bbs_trainval = train_mhca_img2bbs.copy()\n",
    "total_img2bbs_test     = {**voc_img2bbs, **test_mhca_img2bbs}\n",
    "\n",
    "print(f'NUMBER OF TRAIN TOTAL INSTANCES: {len(total_img2bbs_trainval)}')\n",
    "print(f'NUMBER OF TEST  TOTAL INSTANCES: {len(total_img2bbs_test)}')"
   ]
  },
  {
   "cell_type": "markdown",
   "metadata": {},
   "source": [
    "## Write to file"
   ]
  },
  {
   "cell_type": "code",
   "execution_count": 13,
   "metadata": {},
   "outputs": [
    {
     "name": "stdout",
     "output_type": "stream",
     "text": [
      "All good\n",
      "All good\n"
     ]
    }
   ],
   "source": [
    "write_annotations(total_img2bbs_trainval, trainval_output_file)\n",
    "write_annotations(total_img2bbs_test, test_output_file)"
   ]
  },
  {
   "cell_type": "code",
   "execution_count": 14,
   "metadata": {},
   "outputs": [
    {
     "name": "stdout",
     "output_type": "stream",
     "text": [
      "All good\n"
     ]
    }
   ],
   "source": [
    "write_list_to_file(non_classified_image_paths, non_class_file)"
   ]
  }
 ],
 "metadata": {
  "kernelspec": {
   "display_name": "Python 3",
   "language": "python",
   "name": "python3"
  },
  "language_info": {
   "codemirror_mode": {
    "name": "ipython",
    "version": 3
   },
   "file_extension": ".py",
   "mimetype": "text/x-python",
   "name": "python",
   "nbconvert_exporter": "python",
   "pygments_lexer": "ipython3",
   "version": "3.6.8"
  }
 },
 "nbformat": 4,
 "nbformat_minor": 2
}
